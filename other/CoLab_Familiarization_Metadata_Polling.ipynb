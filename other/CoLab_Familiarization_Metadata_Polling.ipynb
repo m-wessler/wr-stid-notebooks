{
  "cells": [
    {
      "cell_type": "markdown",
      "metadata": {
        "id": "view-in-github",
        "colab_type": "text"
      },
      "source": [
        "<a href=\"https://colab.research.google.com/github/m-wessler/wr-stid-notebooks/blob/main/other/CoLab_Familiarization_Metadata_Polling.ipynb\" target=\"_parent\"><img src=\"https://colab.research.google.com/assets/colab-badge.svg\" alt=\"Open In Colab\"/></a>"
      ]
    },
    {
      "cell_type": "markdown",
      "source": [
        "# Install and import\n",
        "Using the ! as an escape character, we can call pip (python package installer) to download and install necessary modules.<br>\n",
        "Use the \"play\" button (or Shift+Enter) to run a cell and proceed one cell at a time. Notebooks are generally meant to be run sequentially, in order, as a python script would be."
      ],
      "metadata": {
        "id": "I9KO2Ip7EVTa"
      }
    },
    {
      "cell_type": "code",
      "source": [
        "!pip install cartopy ipyleaflet ipywidgets branca"
      ],
      "metadata": {
        "id": "ppoSGGqlv-nZ"
      },
      "execution_count": null,
      "outputs": []
    },
    {
      "cell_type": "code",
      "execution_count": null,
      "metadata": {
        "id": "-tS-tEKGsdPx"
      },
      "outputs": [],
      "source": [
        "import json\n",
        "import zipfile\n",
        "import requests\n",
        "\n",
        "import numpy as np\n",
        "import pandas as pd\n",
        "import geopandas as gpd\n",
        "\n",
        "import matplotlib as mpl\n",
        "import matplotlib.pyplot as plt\n",
        "from mpl_toolkits.axes_grid1 import make_axes_locatable\n",
        "\n",
        "import cartopy.crs as ccrs\n",
        "import cartopy.feature as cfeature\n",
        "from cartopy.io.img_tiles import GoogleTiles\n",
        "\n",
        "from ipyleaflet import Map, Marker, MarkerCluster, TileLayer, basemaps, CircleMarker, LayersControl\n",
        "from ipywidgets import HTML\n",
        "import branca.colormap as cm"
      ]
    },
    {
      "cell_type": "markdown",
      "source": [
        "## User Variables\n",
        "Set user variables by either directly entering values into the python code, or by using the form to the right (recommended). These forms are used to populate variables across multiple scripts in the STID CoLab toolkit."
      ],
      "metadata": {
        "id": "A-Wj8TiJF2tw"
      }
    },
    {
      "cell_type": "code",
      "execution_count": null,
      "metadata": {
        "id": "g8yfAdZRsivH"
      },
      "outputs": [],
      "source": [
        "# @markdown Supply your own Synoptic API Token Here\n",
        "token = '' #@param {type:'string'}\n",
        "# @markdown Can use a single CWA, a comma-separated list of CWAs (e.g. SLC,PIH,BOI), or single RFC below (e.g. CNRFC)\n",
        "cwa_rfc = '' #@param {type:'string'}\n",
        "cwa_rfc = cwa_rfc.upper() # force uppercase\n",
        "# @markdown Choose which network(s) to display\n",
        "network = '<select network>' #@param ['<select network>', 'NWS', 'NWS+RAWS', 'NWS+HADS', 'NWS+RAWS+HADS', 'NWS', 'RAWS', 'HADS', 'ALL'] {type:'string'}\n",
        "# @markdown Select sites with available data for a given variable\n",
        "variable = '<select variable>' #@param ['<select variable>', 'air_temp' ,'precip', 'humidity', 'wind', 'gust', 'snow', 'cloud'] {type:'string'}"
      ]
    },
    {
      "cell_type": "markdown",
      "source": [
        "## Script Main\n",
        "Here we will fetch the data from the Synoptic API, filter it, and move it into a Pandas DataFrame. The following blocks of code will do some basic analysis and produce a set of histograms and a map. Run through each sequentially.\n",
        "\n",
        "Running blocks of code out of order can cause a number of errors if variables are overwritten. Use \"Runtime\" > \"Restart Session\" and \"Edit\" > \"Clear All Outputs\" to start over."
      ],
      "metadata": {
        "id": "sBK1LBtcHLE1"
      }
    },
    {
      "cell_type": "code",
      "execution_count": null,
      "metadata": {
        "id": "VGWhlSP-zo9d"
      },
      "outputs": [],
      "source": [
        "metadata_api = 'https://api.synopticdata.com/v2/stations/metadata?'\n",
        "\n",
        "# Convert named network to Synoptic API numeric network IDs (see docs)\n",
        "synoptic_networks = {\n",
        "    \"NWS+RAWS+HADS\":\"1,2,106\",\n",
        "    \"NWS+RAWS\":\"1,2\",\n",
        "    \"NWS+HADS\":\"1,106\",\n",
        "    \"NWS\":\"1\",\n",
        "    \"RAWS\": \"2\",\n",
        "    \"HADS\":\"106\",\n",
        "    \"ALL\":None}\n",
        "\n",
        "network_query = (f\"&network={synoptic_networks[network]}\"\n",
        "                 if synoptic_networks[network] is not None else '')\n",
        "\n",
        "# Assemble the API query\n",
        "if cwa_rfc == '':\n",
        "    cwa_str = ''\n",
        "elif 'RFC' in cwa_rfc:\n",
        "    cwa_str = ''\n",
        "else:\n",
        "    cwa_str = f\"&cwa={cwa_rfc}\"\n",
        "\n",
        "api_query = (f\"{metadata_api}&token={token}{cwa_str}\" + network_query +\n",
        "            f\"&complete=1&sensorvars=1,obrange=20230118\")\n",
        "\n",
        "# Print the API query to output\n",
        "print(api_query)\n",
        "\n",
        "# Get the data from the API\n",
        "response = requests.get(api_query)\n",
        "metadata = pd.DataFrame(response.json()['STATION'])\n",
        "\n",
        "# Remove NaNs and index by network, station ID\n",
        "metadata = metadata[metadata['SHORTNAME'].notna()]\n",
        "metadata = metadata.set_index(['SHORTNAME', 'STID'])\n",
        "\n",
        "metadata['LATITUDE'] = metadata['LATITUDE'].astype(float)\n",
        "metadata['LONGITUDE'] = metadata['LONGITUDE'].astype(float)\n",
        "metadata['ELEVATION'] = metadata['ELEVATION'].astype(float)\n",
        "\n",
        "metadata = metadata[metadata['LATITUDE'] >= 31]\n",
        "metadata = metadata[metadata['LONGITUDE'] <= -103.00]\n",
        "metadata = metadata[metadata['STATUS'] == 'ACTIVE']\n",
        "\n",
        "variable_mask = np.array([i for i, md in enumerate(metadata['SENSOR_VARIABLES'])\n",
        "                                if variable in str(md.keys())])\n",
        "\n",
        "metadata = metadata.iloc[variable_mask]\n",
        "\n",
        "geometry = gpd.points_from_xy(metadata.LONGITUDE, metadata.LATITUDE)\n",
        "metadata = gpd.GeoDataFrame(metadata, geometry=geometry)\n",
        "\n",
        "if 'RFC' in cwa_rfc:\n",
        "\n",
        "    req = requests.get(\n",
        "        'https://www.weather.gov/source/gis/Shapefiles/Misc/rf05mr24.zip',\n",
        "\n",
        "    allow_redirects=True)\n",
        "    open('rf05mr24.zip', 'wb').write(req.content)\n",
        "\n",
        "    with zipfile.ZipFile('rf05mr24.zip', 'r') as zip_ref:\n",
        "        zip_ref.extractall()\n",
        "\n",
        "    rfc_shp = gpd.read_file('rf05mr24.shp').set_index('BASIN_ID')\n",
        "\n",
        "    metadata = metadata[metadata.geometry.within(rfc_shp.geometry.loc['NWRFC'])]\n",
        "\n",
        "print(metadata.shape)\n",
        "metadata.head()"
      ]
    },
    {
      "cell_type": "code",
      "execution_count": null,
      "metadata": {
        "id": "vxXzUDA31p4x"
      },
      "outputs": [],
      "source": [
        "network_names = metadata.index.get_level_values(0).unique()\n",
        "\n",
        "print('Station Counts:')\n",
        "for nn in network_names:\n",
        "    print(nn, metadata.loc[nn, :].shape[0])"
      ]
    },
    {
      "cell_type": "code",
      "execution_count": null,
      "metadata": {
        "id": "omwdTBG14oTn"
      },
      "outputs": [],
      "source": [
        "print('Station Elevations:')\n",
        "\n",
        "fig, axs = plt.subplots(network_names.size, 1, sharex=True,\n",
        "                        figsize=(8, 1.5*network_names.size))\n",
        "\n",
        "try:\n",
        "    axs = axs.flatten()\n",
        "except:\n",
        "    axs = [axs]\n",
        "\n",
        "for i, nn in enumerate(network_names):\n",
        "    axs[i].hist(metadata.loc[nn, :]['ELEVATION'],\n",
        "             bins=np.arange(0, np.ceil(metadata.ELEVATION.max()/1000)*1000, 500),\n",
        "                edgecolor='k', alpha=0.5, width=475,\n",
        "             label=f'{nn} ({metadata.loc[nn, :].shape[0]})')\n",
        "    axs[i].grid(zorder=-1)\n",
        "    axs[i].set_xlim(left=0)\n",
        "    axs[i].legend()\n",
        "\n",
        "axs[i].set_xlabel('Elevation (ft)')\n",
        "\n",
        "fig.subplots_adjust(hspace=0.1)\n",
        "plt.show()"
      ]
    },
    {
      "cell_type": "markdown",
      "source": [
        "The cell below leverages geopandas and cartopy to plot the stations across a selected CWA (or multiple) with elevation shaded."
      ],
      "metadata": {
        "id": "6PFZN_-3IunN"
      }
    },
    {
      "cell_type": "code",
      "source": [
        "popup_text_color = \"darkblue\"\n",
        "map_width = \"900px\"\n",
        "map_height = \"600px\"\n",
        "\n",
        "# Define the colormap for elevation\n",
        "vmin = metadata.ELEVATION.min()\n",
        "vmax = metadata.ELEVATION.max()\n",
        "color_map = cm.linear.YlGnBu_09.scale(vmin, vmax)\n",
        "\n",
        "# Map center\n",
        "center_lat = metadata.LATITUDE.mean()\n",
        "center_lon = metadata.LONGITUDE.mean()\n",
        "\n",
        "\n",
        "# Map setup\n",
        "m = Map(center=(center_lat, center_lon), zoom=7,\n",
        "        scroll_wheel_zoom=True,\n",
        "        layout={'width': map_width, 'height': map_height})\n",
        "\n",
        "# Tile layers\n",
        "terrain = TileLayer(url=\"https://stamen-tiles-{s}.a.ssl.fastly.net/terrain/{z}/{x}/{y}.png\",\n",
        "                   attribution='Map tiles by <a href=\"http://stamen.com\">Stamen Design</a>, ' +\n",
        "                   'under <a href=\"http://creativecommons.org/licenses/by/3.0\">CC BY 3.0</a>. ' +\n",
        "                   'Data by <a href=\"http://openstreetmap.org\">OpenStreetMap</a>',\n",
        "                   name='Stamen Terrain')\n",
        "osm = TileLayer(url='https://{s}.tile.openstreetmap.org/{z}/{x}/{y}.png',\n",
        "               attribution='&copy; <a href=\"https://www.openstreetmap.org/copyright\">OpenStreetMap</a>',\n",
        "               name='OpenStreetMap')\n",
        "satellite = basemaps.Esri.WorldImagery\n",
        "\n",
        "# OpenTopoMap tile layer\n",
        "topo = TileLayer(\n",
        "    url=\"https://{s}.tile.opentopomap.org/{z}/{x}/{y}.png\",\n",
        "    attribution='Map data: © <a href=\"https://opentopomap.org\">OpenTopoMap</a> contributors',\n",
        "    name='OpenTopoMap'\n",
        ")\n",
        "\n",
        "# Add to map\n",
        "m.add_layer(topo)\n",
        "m.add_layer(osm)\n",
        "# m.add_layer(terrain)\n",
        "m.add_layer(satellite)\n",
        "terrain.visible = True\n",
        "osm.visible = False\n",
        "satellite.visible = False\n",
        "m.add_control(LayersControl())\n",
        "\n",
        "# Add markers\n",
        "for i, nn in enumerate(network_names):\n",
        "    network_data = metadata.loc[nn, :]\n",
        "    for idx, row in network_data.iterrows():\n",
        "        elevation = row['ELEVATION']\n",
        "        color = color_map(elevation)\n",
        "        station_name = row.get('STATION', idx)\n",
        "        popup_html = f\"\"\"\n",
        "        <div style='width:180px; color:{popup_text_color};'>\n",
        "            <b>Station:</b> {station_name}<br>\n",
        "            <b>Network:</b> {nn}<br>\n",
        "            <b>Elevation:</b> {elevation} ft<br>\n",
        "            <b>Lat/Lon:</b> {row.geometry.y:.4f}, {row.geometry.x:.4f}\n",
        "        </div>\n",
        "        \"\"\"\n",
        "        marker = CircleMarker(\n",
        "            location=(row.geometry.y, row.geometry.x),\n",
        "            radius=7,\n",
        "            color=\"white\",\n",
        "            weight=2,\n",
        "            fill_color=color,\n",
        "            fill_opacity=0.8,\n",
        "            popup=HTML(popup_html)\n",
        "        )\n",
        "        m.add_layer(marker)\n",
        "\n",
        "title_html = f'<h3 style=\"text-align:center;color:{popup_text_color};\">{cwa_rfc.upper()} Stations ({network})</h3>'\n",
        "title_widget = HTML(title_html)\n",
        "display(title_widget, m)"
      ],
      "metadata": {
        "id": "WaDUPkfCdbR3"
      },
      "execution_count": null,
      "outputs": []
    }
  ],
  "metadata": {
    "colab": {
      "provenance": [],
      "include_colab_link": true
    },
    "kernelspec": {
      "display_name": "Python 3",
      "name": "python3"
    },
    "language_info": {
      "name": "python"
    }
  },
  "nbformat": 4,
  "nbformat_minor": 0
}