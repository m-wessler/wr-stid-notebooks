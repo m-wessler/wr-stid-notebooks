{
  "cells": [
    {
      "cell_type": "markdown",
      "metadata": {
        "id": "view-in-github",
        "colab_type": "text"
      },
      "source": [
        "<a href=\"https://colab.research.google.com/github/m-wessler/nbm-verification/blob/main/CoLab_Familiarization_Metadata_Pull.ipynb\" target=\"_parent\"><img src=\"https://colab.research.google.com/assets/colab-badge.svg\" alt=\"Open In Colab\"/></a>"
      ]
    },
    {
      "cell_type": "markdown",
      "source": [
        "# Install and import\n",
        "Using the ! as an escape character, we can call pip (python package installer) to download and install necessary modules.<br>\n",
        "Use the \"play\" button (or Shift+Enter) to run a cell and proceed one cell at a time. Notebooks are generally meant to be run sequentially, in order, as a python script would be."
      ],
      "metadata": {
        "id": "I9KO2Ip7EVTa"
      }
    },
    {
      "cell_type": "code",
      "source": [
        "!pip install cartopy"
      ],
      "metadata": {
        "id": "ppoSGGqlv-nZ"
      },
      "execution_count": null,
      "outputs": []
    },
    {
      "cell_type": "code",
      "execution_count": null,
      "metadata": {
        "id": "-tS-tEKGsdPx"
      },
      "outputs": [],
      "source": [
        "import json\n",
        "import zipfile\n",
        "import requests\n",
        "\n",
        "import numpy as np\n",
        "import pandas as pd\n",
        "import geopandas as gpd\n",
        "\n",
        "import matplotlib as mpl\n",
        "import matplotlib.pyplot as plt\n",
        "from matplotlib import pyplot as plt\n",
        "from mpl_toolkits.axes_grid1 import make_axes_locatable\n",
        "\n",
        "import cartopy.crs as ccrs\n",
        "import cartopy.feature as cfeature\n",
        "from cartopy.io.img_tiles import GoogleTiles"
      ]
    },
    {
      "cell_type": "markdown",
      "source": [
        "## User Variables\n",
        "Set user variables by either directly entering values into the python code, or by using the form to the right (recommended). These forms are used to populate variables across multiple scripts in the STID CoLab toolkit."
      ],
      "metadata": {
        "id": "A-Wj8TiJF2tw"
      }
    },
    {
      "cell_type": "code",
      "execution_count": null,
      "metadata": {
        "id": "g8yfAdZRsivH"
      },
      "outputs": [],
      "source": [
        "# @markdown Supply your own Synoptic API Token Here\n",
        "token = '' #@param {type:'string'}\n",
        "# @markdown Can use a single CWA, a comma-separated list of CWAs (e.g. SLC,PIH,BOI), or single RFC below (e.g. CNRFC)\n",
        "cwa_rfc = '' #@param {type:'string'}\n",
        "cwa_rfc = cwa_rfc.upper() # force uppercase\n",
        "# @markdown Choose which network(s) to display\n",
        "network = 'NWS+RAWS+HADS' #@param ['<select network>', 'NWS', 'NWS+RAWS', 'NWS+HADS', 'NWS+RAWS+HADS', 'NWS', 'RAWS', 'HADS', 'ALL'] {type:'string'}\n",
        "# @markdown Select sites with available data for a given variable\n",
        "variable = 'precip' #@param ['<select variable>', 'air_temp' ,'precip', 'humidity', 'wind', 'gust', 'snow', 'cloud'] {type:'string'}"
      ]
    },
    {
      "cell_type": "markdown",
      "source": [
        "## Script Main\n",
        "Here we will fetch the data from the Synoptic API, filter it, and move it into a Pandas DataFrame. The following blocks of code will do some basic analysis and produce a set of histograms and a map. Run through each sequentially.\n",
        "\n",
        "Running blocks of code out of order can cause a number of errors if variables are overwritten. Use \"Runtime\" > \"Restart Session\" and \"Edit\" > \"Clear All Outputs\" to start over."
      ],
      "metadata": {
        "id": "sBK1LBtcHLE1"
      }
    },
    {
      "cell_type": "code",
      "execution_count": null,
      "metadata": {
        "id": "VGWhlSP-zo9d"
      },
      "outputs": [],
      "source": [
        "metadata_api = 'https://api.synopticdata.com/v2/stations/metadata?'\n",
        "\n",
        "# Convert named network to Synoptic API numeric network IDs (see docs)\n",
        "synoptic_networks = {\n",
        "    \"NWS+RAWS+HADS\":\"1,2,106\",\n",
        "    \"NWS+RAWS\":\"1,2\",\n",
        "    \"NWS+HADS\":\"1,106\",\n",
        "    \"NWS\":\"1\",\n",
        "    \"RAWS\": \"2\",\n",
        "    \"HADS\":\"106\",\n",
        "    \"ALL\":None}\n",
        "\n",
        "network_query = (f\"&network={synoptic_networks[network]}\"\n",
        "                 if synoptic_networks[network] is not None else '')\n",
        "\n",
        "# Assemble the API query\n",
        "if cwa_rfc == '':\n",
        "    cwa_str = ''\n",
        "elif 'RFC' in cwa_rfc:\n",
        "    cwa_str = ''\n",
        "else:\n",
        "    cwa_str = f\"&cwa={cwa_rfc}\"\n",
        "\n",
        "api_query = (f\"{metadata_api}&token={token}{cwa_str}\" + network_query +\n",
        "            f\"&complete=1&sensorvars=1,obrange=20230118\")\n",
        "\n",
        "# Print the API query to output\n",
        "print(api_query)\n",
        "\n",
        "# Get the data from the API\n",
        "response = requests.get(api_query)\n",
        "metadata = pd.DataFrame(response.json()['STATION'])\n",
        "\n",
        "# Remove NaNs and index by network, station ID\n",
        "metadata = metadata[metadata['MNET_SHORTNAME'].notna()]\n",
        "metadata = metadata.set_index(['MNET_SHORTNAME', 'STID'])\n",
        "\n",
        "metadata['LATITUDE'] = metadata['LATITUDE'].astype(float)\n",
        "metadata['LONGITUDE'] = metadata['LONGITUDE'].astype(float)\n",
        "metadata['ELEVATION'] = metadata['ELEVATION'].astype(float)\n",
        "\n",
        "metadata = metadata[metadata['LATITUDE'] >= 31]\n",
        "metadata = metadata[metadata['LONGITUDE'] <= -103.00]\n",
        "metadata = metadata[metadata['STATUS'] == 'ACTIVE']\n",
        "\n",
        "variable_mask = np.array([i for i, md in enumerate(metadata['SENSOR_VARIABLES'])\n",
        "                                if variable in str(md.keys())])\n",
        "\n",
        "metadata = metadata.iloc[variable_mask]\n",
        "\n",
        "geometry = gpd.points_from_xy(metadata.LONGITUDE, metadata.LATITUDE)\n",
        "metadata = gpd.GeoDataFrame(metadata, geometry=geometry)\n",
        "\n",
        "if 'RFC' in cwa_rfc:\n",
        "\n",
        "    req = requests.get(\n",
        "        'https://www.weather.gov/source/gis/Shapefiles/Misc/rf05mr24.zip',\n",
        "\n",
        "    allow_redirects=True)\n",
        "    open('rf05mr24.zip', 'wb').write(req.content)\n",
        "\n",
        "    with zipfile.ZipFile('rf05mr24.zip', 'r') as zip_ref:\n",
        "        zip_ref.extractall()\n",
        "\n",
        "    rfc_shp = gpd.read_file('rf05mr24.shp').set_index('BASIN_ID')\n",
        "\n",
        "    metadata = metadata[metadata.geometry.within(rfc_shp.geometry.loc['NWRFC'])]\n",
        "\n",
        "print(metadata.shape)\n",
        "metadata.head()"
      ]
    },
    {
      "cell_type": "code",
      "execution_count": null,
      "metadata": {
        "id": "vxXzUDA31p4x"
      },
      "outputs": [],
      "source": [
        "network_names = metadata.index.get_level_values(0).unique()\n",
        "\n",
        "print('Station Counts:')\n",
        "for nn in network_names:\n",
        "    print(nn, metadata.loc[nn, :].shape[0])"
      ]
    },
    {
      "cell_type": "code",
      "execution_count": null,
      "metadata": {
        "id": "omwdTBG14oTn"
      },
      "outputs": [],
      "source": [
        "print('Station Elevations:')\n",
        "\n",
        "fig, axs = plt.subplots(network_names.size, 1, sharex=True,\n",
        "                        figsize=(8, 1.5*network_names.size))\n",
        "\n",
        "try:\n",
        "    axs = axs.flatten()\n",
        "except:\n",
        "    axs = [axs]\n",
        "\n",
        "for i, nn in enumerate(network_names):\n",
        "    axs[i].hist(metadata.loc[nn, :]['ELEVATION'],\n",
        "             bins=np.arange(0, np.ceil(metadata.ELEVATION.max()/1000)*1000, 500),\n",
        "                edgecolor='k', alpha=0.5, width=475,\n",
        "             label=f'{nn} ({metadata.loc[nn, :].shape[0]})')\n",
        "    axs[i].grid(zorder=-1)\n",
        "    axs[i].set_xlim(left=0)\n",
        "    axs[i].legend()\n",
        "\n",
        "axs[i].set_xlabel('Elevation (ft)')\n",
        "\n",
        "fig.subplots_adjust(hspace=0.1)\n",
        "plt.show()"
      ]
    },
    {
      "cell_type": "markdown",
      "source": [
        "The cell below leverages geopandas and cartopy to plot the stations across a selected CWA (or multiple) with elevation shaded. If the list of networks is longer than the available marker types, they will be plotted together as one."
      ],
      "metadata": {
        "id": "6PFZN_-3IunN"
      }
    },
    {
      "cell_type": "code",
      "source": [
        "geo_metadata = gpd.GeoDataFrame(metadata,\n",
        "                                geometry=gpd.points_from_xy(\n",
        "                                    metadata.LONGITUDE, metadata.LATITUDE),\n",
        "                                crs=\"EPSG:4326\")\n",
        "\n",
        "cmap = mpl.cm.terrain\n",
        "vmin = np.floor(metadata.ELEVATION.min()/1000)*1000\n",
        "vmax = np.ceil(metadata.ELEVATION.max()/1000)*1000\n",
        "norm = mpl.colors.Normalize(vmin=vmin, vmax=vmax)\n",
        "\n",
        "markers = [\",\",\"o\",\"v\",\"^\",\"<\",\">\"]\n",
        "\n",
        "# Create a figure and axes object\n",
        "fig = plt.figure(figsize=(12, 12))\n",
        "ax = fig.add_subplot(1, 1, 1, projection=ccrs.PlateCarree())\n",
        "\n",
        "for i, nn in enumerate(network_names):\n",
        "    marker = markers[i] if network_names.size <= len(markers) else ','\n",
        "    legend = True if ((i == len(network_names)-1)\n",
        "                        & (network_names.size <= len(markers))) else False\n",
        "\n",
        "    geo_metadata.loc[nn, :].plot(column='ELEVATION', ax=ax, zorder=10,\n",
        "                    markersize=75, marker=marker, label=nn,\n",
        "                    vmin=vmin, vmax=vmax, cmap=cmap, norm=norm,\n",
        "                    legend=legend,\n",
        "                    legend_kwds={'label': 'Elevation (ft)', 'shrink':0.5})\n",
        "\n",
        "# # Add boundaries\n",
        "ax.add_feature(cfeature.LAND.with_scale('50m'))\n",
        "ax.add_feature(cfeature.OCEAN.with_scale('50m'))\n",
        "ax.add_feature(cfeature.LAKES.with_scale('50m'))\n",
        "ax.add_feature(cfeature.STATES.with_scale('50m'))\n",
        "ax.coastlines()\n",
        "\n",
        "plt.title(f'{cwa_rfc.upper()} Stations ({network})')\n",
        "\n",
        "plt.show()"
      ],
      "metadata": {
        "id": "wcVlGMn-giTZ"
      },
      "execution_count": null,
      "outputs": []
    }
  ],
  "metadata": {
    "colab": {
      "provenance": [],
      "authorship_tag": "ABX9TyM6PhlYIprlBvSSZv0GH8gf",
      "include_colab_link": true
    },
    "kernelspec": {
      "display_name": "Python 3",
      "name": "python3"
    },
    "language_info": {
      "name": "python"
    }
  },
  "nbformat": 4,
  "nbformat_minor": 0
}